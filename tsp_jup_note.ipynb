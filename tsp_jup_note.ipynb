{
 "cells": [
  {
   "cell_type": "code",
   "execution_count": 4,
   "metadata": {},
   "outputs": [],
   "source": [
    "import pandas as pd\n",
    "from pulp import *"
   ]
  },
  {
   "cell_type": "code",
   "execution_count": 5,
   "metadata": {},
   "outputs": [],
   "source": [
    "n = 5\n",
    "cities = [1,2,3,4,5]\n",
    "dist = pd.read_csv('data_tsp.csv',header=None)\t"
   ]
  },
  {
   "cell_type": "code",
   "execution_count": 6,
   "metadata": {},
   "outputs": [
    {
     "data": {
      "text/html": [
       "<div>\n",
       "<style scoped>\n",
       "    .dataframe tbody tr th:only-of-type {\n",
       "        vertical-align: middle;\n",
       "    }\n",
       "\n",
       "    .dataframe tbody tr th {\n",
       "        vertical-align: top;\n",
       "    }\n",
       "\n",
       "    .dataframe thead th {\n",
       "        text-align: right;\n",
       "    }\n",
       "</style>\n",
       "<table border=\"1\" class=\"dataframe\">\n",
       "  <thead>\n",
       "    <tr style=\"text-align: right;\">\n",
       "      <th></th>\n",
       "      <th>0</th>\n",
       "      <th>1</th>\n",
       "      <th>2</th>\n",
       "      <th>3</th>\n",
       "      <th>4</th>\n",
       "    </tr>\n",
       "  </thead>\n",
       "  <tbody>\n",
       "    <tr>\n",
       "      <th>0</th>\n",
       "      <td>1234567</td>\n",
       "      <td>10.0</td>\n",
       "      <td>8.0</td>\n",
       "      <td>9.0</td>\n",
       "      <td>7.0</td>\n",
       "    </tr>\n",
       "    <tr>\n",
       "      <th>1</th>\n",
       "      <td>10</td>\n",
       "      <td>1234567.0</td>\n",
       "      <td>10.0</td>\n",
       "      <td>5.0</td>\n",
       "      <td>6.0</td>\n",
       "    </tr>\n",
       "    <tr>\n",
       "      <th>2</th>\n",
       "      <td>8</td>\n",
       "      <td>10.0</td>\n",
       "      <td>1234567.0</td>\n",
       "      <td>8.0</td>\n",
       "      <td>9.0</td>\n",
       "    </tr>\n",
       "    <tr>\n",
       "      <th>3</th>\n",
       "      <td>9</td>\n",
       "      <td>5.0</td>\n",
       "      <td>8.0</td>\n",
       "      <td>1234567.0</td>\n",
       "      <td>6.0</td>\n",
       "    </tr>\n",
       "    <tr>\n",
       "      <th>4</th>\n",
       "      <td>7</td>\n",
       "      <td>6.0</td>\n",
       "      <td>9.0</td>\n",
       "      <td>6.0</td>\n",
       "      <td>1234567.0</td>\n",
       "    </tr>\n",
       "  </tbody>\n",
       "</table>\n",
       "</div>"
      ],
      "text/plain": [
       "         0          1          2          3          4\n",
       "0  1234567       10.0        8.0        9.0        7.0\n",
       "1       10  1234567.0       10.0        5.0        6.0\n",
       "2        8       10.0  1234567.0        8.0        9.0\n",
       "3        9        5.0        8.0  1234567.0        6.0\n",
       "4        7        6.0        9.0        6.0  1234567.0"
      ]
     },
     "execution_count": 6,
     "metadata": {},
     "output_type": "execute_result"
    }
   ],
   "source": [
    "dist.head()"
   ]
  },
  {
   "cell_type": "code",
   "execution_count": 7,
   "metadata": {},
   "outputs": [],
   "source": [
    "x = LpVariable.dicts('X', [(c1, c2) for c1 in cities for c2 in cities], cat='Binary')  # Creating the pairwise binary variable iterate over the cities list twice.\n"
   ]
  },
  {
   "cell_type": "code",
   "execution_count": 8,
   "metadata": {},
   "outputs": [
    {
     "data": {
      "text/plain": [
       "{(1, 1): X_(1,_1),\n",
       " (1, 2): X_(1,_2),\n",
       " (1, 3): X_(1,_3),\n",
       " (1, 4): X_(1,_4),\n",
       " (1, 5): X_(1,_5),\n",
       " (2, 1): X_(2,_1),\n",
       " (2, 2): X_(2,_2),\n",
       " (2, 3): X_(2,_3),\n",
       " (2, 4): X_(2,_4),\n",
       " (2, 5): X_(2,_5),\n",
       " (3, 1): X_(3,_1),\n",
       " (3, 2): X_(3,_2),\n",
       " (3, 3): X_(3,_3),\n",
       " (3, 4): X_(3,_4),\n",
       " (3, 5): X_(3,_5),\n",
       " (4, 1): X_(4,_1),\n",
       " (4, 2): X_(4,_2),\n",
       " (4, 3): X_(4,_3),\n",
       " (4, 4): X_(4,_4),\n",
       " (4, 5): X_(4,_5),\n",
       " (5, 1): X_(5,_1),\n",
       " (5, 2): X_(5,_2),\n",
       " (5, 3): X_(5,_3),\n",
       " (5, 4): X_(5,_4),\n",
       " (5, 5): X_(5,_5)}"
      ]
     },
     "execution_count": 8,
     "metadata": {},
     "output_type": "execute_result"
    }
   ],
   "source": [
    "x"
   ]
  },
  {
   "cell_type": "code",
   "execution_count": 9,
   "metadata": {},
   "outputs": [],
   "source": [
    "u = LpVariable.dicts('U', [c1 for c1 in cities], lowBound=0, upBound=(n-1), cat='Integer') # Create a dictionary 'u' holding an integer LpVariable for each city. Hence iterate over the list of cities only once.\n"
   ]
  },
  {
   "cell_type": "code",
   "execution_count": 10,
   "metadata": {},
   "outputs": [
    {
     "data": {
      "text/plain": [
       "{1: U_1, 2: U_2, 3: U_3, 4: U_4, 5: U_5}"
      ]
     },
     "execution_count": 10,
     "metadata": {},
     "output_type": "execute_result"
    }
   ],
   "source": [
    "u"
   ]
  },
  {
   "cell_type": "code",
   "execution_count": 11,
   "metadata": {},
   "outputs": [],
   "source": [
    "model = LpProblem(\"TSP\", LpMinimize)\n",
    "model += lpSum([dist.iloc[c1-1, c2-1] * x[(c1, c2)] for c1 in cities for c2 in cities]) # Summing together, the distance between each pair "
   ]
  },
  {
   "cell_type": "code",
   "execution_count": 12,
   "metadata": {},
   "outputs": [],
   "source": [
    "for c2 in cities:\n",
    "    model += lpSum([x[(c1, c2)] for c1 in cities]) == 1 # To ensure that a city can be arrived from excatly one other city \n",
    "for c1 in cities:\n",
    "    model += lpSum([x[(c1, c2)] for c2 in cities]) == 1 # To ensure that ther can be a departure to excatly one other city from a city\n"
   ]
  },
  {
   "cell_type": "code",
   "execution_count": 13,
   "metadata": {},
   "outputs": [],
   "source": [
    "for c2 in cities:\n",
    "    for c1 in cities:\n",
    "        model += x[(c2,c1)]+x[(c1,c2)]<=1 # To eliminate subtours of length two  \n"
   ]
  },
  {
   "cell_type": "code",
   "execution_count": 14,
   "metadata": {},
   "outputs": [
    {
     "name": "stdout",
     "output_type": "stream",
     "text": [
      "Optimal\n"
     ]
    }
   ],
   "source": [
    "status = model.solve()\n",
    "print(LpStatus[status])\n"
   ]
  },
  {
   "cell_type": "code",
   "execution_count": 15,
   "metadata": {},
   "outputs": [
    {
     "name": "stdout",
     "output_type": "stream",
     "text": [
      "34.0\n",
      "5  ->  1\n",
      "4  ->  2\n",
      "1  ->  3\n",
      "3  ->  4\n",
      "2  ->  5\n"
     ]
    }
   ],
   "source": [
    "# Print the distance travelled in optimal solution\n",
    "print(value(model.objective)) \n",
    "\n",
    "# Print the route travelled \n",
    "for c2 in cities:\n",
    "    for c1 in cities:\n",
    "        if x[(c1,c2)].varValue ==1:\n",
    "            print(c1,\" -> \",c2)"
   ]
  }
 ],
 "metadata": {
  "kernelspec": {
   "display_name": "Python 3",
   "language": "python",
   "name": "python3"
  },
  "language_info": {
   "codemirror_mode": {
    "name": "ipython",
    "version": 3
   },
   "file_extension": ".py",
   "mimetype": "text/x-python",
   "name": "python",
   "nbconvert_exporter": "python",
   "pygments_lexer": "ipython3",
   "version": "3.6.5"
  }
 },
 "nbformat": 4,
 "nbformat_minor": 2
}
